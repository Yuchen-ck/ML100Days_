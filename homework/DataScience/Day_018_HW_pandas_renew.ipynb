{
 "cells": [
  {
   "cell_type": "code",
   "execution_count": null,
   "metadata": {},
   "outputs": [],
   "source": [
    "#在速度較慢的時候，可以先從哪邊開始檢查？\n",
    "\n",
    "'''\n",
    "先檢查有沒有使⽤到⾃訂義的函數，如果有可以查詢pandas中是否有\n",
    "⽀援相關演算法，如果以上都沒辦法改善，那可以從資料讀取⽅式下⼿，將要\n",
    "讀取的資料改成pkl檔\n",
    "'''"
   ]
  },
  {
   "cell_type": "code",
   "execution_count": null,
   "metadata": {},
   "outputs": [],
   "source": [
    "#資料過⼤時應採取什麼⽅式讓記憶體占⽤量下降？\n",
    "'''\n",
    "欄位的型態降級\n",
    "'''"
   ]
  }
 ],
 "metadata": {
  "kernelspec": {
   "display_name": "Python 3",
   "language": "python",
   "name": "python3"
  },
  "language_info": {
   "codemirror_mode": {
    "name": "ipython",
    "version": 3
   },
   "file_extension": ".py",
   "mimetype": "text/x-python",
   "name": "python",
   "nbconvert_exporter": "python",
   "pygments_lexer": "ipython3",
   "version": "3.8.3"
  }
 },
 "nbformat": 4,
 "nbformat_minor": 4
}
